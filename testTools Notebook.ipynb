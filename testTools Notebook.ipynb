{
 "cells": [
  {
   "cell_type": "code",
   "execution_count": 1,
   "metadata": {
    "collapsed": false
   },
   "outputs": [
    {
     "name": "stdout",
     "output_type": "stream",
     "text": [
      "Couldn't import dot_parser, loading of dot files will not be possible.\n"
     ]
    },
    {
     "name": "stderr",
     "output_type": "stream",
     "text": [
      "Using TensorFlow backend.\n"
     ]
    }
   ],
   "source": [
    "from utils import JPtools"
   ]
  },
  {
   "cell_type": "code",
   "execution_count": 2,
   "metadata": {
    "collapsed": true
   },
   "outputs": [],
   "source": [
    "dims = [30, 50, 25, 10, 5, 3]\n",
    "jae = JPtools.JPAutoEncoder(dims)"
   ]
  },
  {
   "cell_type": "code",
   "execution_count": 3,
   "metadata": {
    "collapsed": true
   },
   "outputs": [],
   "source": [
    "import numpy as np\n",
    "def makePsf(x, sigma1=1.0, b=0.0, sigma_ratio=2, xc=0):\n",
    "    I = np.exp(-0.5*((x - xc)/sigma1)**2) + b*np.exp(-0.5*((x - xc)/(sigma_ratio*sigma1))**2)\n",
    "    I /= np.sum(I)*(x[1] - x[0])\n",
    "    \n",
    "    return I\n",
    "## put back x inputs \n",
    "def manyPsf(bList, samples=30):\n",
    "    X = []\n",
    "    for b in bList:\n",
    "        x0 = np.zeros(samples)\n",
    "        #x0[0:samples] = np.linspace(-1, 1, samples)\n",
    "        #x0[samples:2*samples] = makePsf(np.linspace(-1,1,samples), b=b)\n",
    "        x0[0:samples] = makePsf(np.linspace(-1,1,samples), b=b)\n",
    "        #x0[-1] = b\n",
    "        X.append(x0)\n",
    "    return X\n",
    "\n",
    "\n",
    "from sklearn.cross_validation import train_test_split\n",
    "from scipy.special import expit\n",
    "X = manyPsf(np.linspace(0, 10, 5000))\n",
    "X = np.vstack(X)\n",
    "X_train, X_test = train_test_split(X, test_size=0.1, random_state=42)\n"
   ]
  },
  {
   "cell_type": "code",
   "execution_count": null,
   "metadata": {
    "collapsed": false
   },
   "outputs": [
    {
     "name": "stdout",
     "output_type": "stream",
     "text": [
      "Epoch 1/20\n",
      "4500/4500 [==============================] - 0s - loss: 0.2157     \n",
      "Epoch 2/20\n",
      "4500/4500 [==============================] - 0s - loss: 0.1073     \n",
      "Epoch 3/20\n",
      "4500/4500 [==============================] - 0s - loss: 0.0587     \n",
      "Epoch 4/20\n",
      "4500/4500 [==============================] - 0s - loss: 0.0333     \n",
      "Epoch 5/20\n",
      "4500/4500 [==============================] - 0s - loss: 0.0192     \n",
      "Epoch 6/20\n",
      "4500/4500 [==============================] - 0s - loss: 0.0111     \n",
      "Epoch 7/20\n",
      "4500/4500 [==============================] - 0s - loss: 0.0064     \n",
      "Epoch 8/20\n",
      "4500/4500 [==============================] - 0s - loss: 0.0038     \n",
      "Epoch 9/20\n",
      "4500/4500 [==============================] - 0s - loss: 0.0023     \n",
      "Epoch 10/20\n",
      "4500/4500 [==============================] - 0s - loss: 0.0014     \n",
      "Epoch 11/20\n",
      "4500/4500 [==============================] - 0s - loss: 9.1219e-04     \n",
      "Epoch 12/20\n",
      "4500/4500 [==============================] - 0s - loss: 6.3891e-04     \n",
      "Epoch 13/20\n",
      "4500/4500 [==============================] - 0s - loss: 4.8517e-04     \n",
      "Epoch 14/20\n",
      "4500/4500 [==============================] - 0s - loss: 3.9871e-04     \n",
      "Epoch 15/20\n",
      "4500/4500 [==============================] - 0s - loss: 3.5005e-04     \n",
      "Epoch 16/20\n",
      "4500/4500 [==============================] - 0s - loss: 3.2259e-04     \n",
      "Epoch 17/20\n",
      "4500/4500 [==============================] - 0s - loss: 3.0706e-04     \n",
      "Epoch 18/20\n",
      "4500/4500 [==============================] - 0s - loss: 2.9820e-04     \n",
      "Epoch 19/20\n",
      "4500/4500 [==============================] - 0s - loss: 2.9315e-04     \n",
      "Epoch 20/20\n",
      "4500/4500 [==============================] - 0s - loss: 2.9023e-04     \n",
      "Epoch 1/20\n",
      "4500/4500 [==============================] - 0s - loss: 0.1860     \n",
      "Epoch 2/20\n",
      "4500/4500 [==============================] - 0s - loss: 0.1707     \n",
      "Epoch 3/20\n",
      "4500/4500 [==============================] - 0s - loss: 0.1600     \n",
      "Epoch 4/20\n",
      "4500/4500 [==============================] - 0s - loss: 0.1526     \n",
      "Epoch 5/20\n",
      "4500/4500 [==============================] - 0s - loss: 0.1475     \n",
      "Epoch 6/20\n",
      "4500/4500 [==============================] - 0s - loss: 0.1438     \n",
      "Epoch 7/20\n",
      "4500/4500 [==============================] - 0s - loss: 0.1404     \n",
      "Epoch 8/20\n",
      "4500/4500 [==============================] - 0s - loss: 0.1375     \n",
      "Epoch 9/20\n",
      "4500/4500 [==============================] - 0s - loss: 0.1352     \n",
      "Epoch 10/20\n",
      "4500/4500 [==============================] - 0s - loss: 0.1332     \n",
      "Epoch 11/20\n",
      "4500/4500 [==============================] - 0s - loss: 0.1314     \n",
      "Epoch 12/20\n",
      "4500/4500 [==============================] - 0s - loss: 0.1299     \n",
      "Epoch 13/20\n",
      "4500/4500 [==============================] - 0s - loss: 0.1284     \n",
      "Epoch 14/20\n",
      "4500/4500 [==============================] - 0s - loss: 0.1271     \n",
      "Epoch 15/20\n",
      "4500/4500 [==============================] - 0s - loss: 0.1252     \n",
      "Epoch 16/20\n",
      "4500/4500 [==============================] - 0s - loss: 0.1232     \n",
      "Epoch 17/20\n",
      "4500/4500 [==============================] - 0s - loss: 0.1214     \n",
      "Epoch 18/20\n",
      "4500/4500 [==============================] - 0s - loss: 0.1197     \n",
      "Epoch 19/20\n",
      "4500/4500 [==============================] - 0s - loss: 0.1175     \n",
      "Epoch 20/20\n",
      "4500/4500 [==============================] - 0s - loss: 0.1156     \n",
      "Epoch 1/20\n",
      "4500/4500 [==============================] - 0s - loss: 0.0648     \n",
      "Epoch 2/20\n",
      "4500/4500 [==============================] - 0s - loss: 0.0603     \n",
      "Epoch 3/20\n",
      "4500/4500 [==============================] - 0s - loss: 0.0564     \n",
      "Epoch 4/20\n",
      "4500/4500 [==============================] - 0s - loss: 0.0529     \n",
      "Epoch 5/20\n",
      "4500/4500 [==============================] - 0s - loss: 0.0497     \n",
      "Epoch 6/20\n",
      "4500/4500 [==============================] - 0s - loss: 0.0468     \n",
      "Epoch 7/20\n",
      "4500/4500 [==============================] - 0s - loss: 0.0441     \n",
      "Epoch 8/20\n",
      "4500/4500 [==============================] - 0s - loss: 0.0418     \n",
      "Epoch 9/20\n",
      "4500/4500 [==============================] - 0s - loss: 0.0396     \n",
      "Epoch 10/20\n",
      "4500/4500 [==============================] - 0s - loss: 0.0376     \n",
      "Epoch 11/20\n",
      "4500/4500 [==============================] - 0s - loss: 0.0359     \n",
      "Epoch 12/20\n",
      "4500/4500 [==============================] - 0s - loss: 0.0343     \n",
      "Epoch 13/20\n",
      "4500/4500 [==============================] - 0s - loss: 0.0328     \n",
      "Epoch 14/20\n",
      "4500/4500 [==============================] - 0s - loss: 0.0315     \n",
      "Epoch 15/20\n",
      "4500/4500 [==============================] - 0s - loss: 0.0303     \n",
      "Epoch 16/20\n",
      "4500/4500 [==============================] - 0s - loss: 0.0293     \n",
      "Epoch 17/20\n",
      "4500/4500 [==============================] - 0s - loss: 0.0283     \n",
      "Epoch 18/20\n",
      "4500/4500 [==============================] - 0s - loss: 0.0274     \n",
      "Epoch 19/20\n",
      "4500/4500 [==============================] - 0s - loss: 0.0267     \n",
      "Epoch 20/20\n",
      "4500/4500 [==============================] - 0s - loss: 0.0260     \n",
      "Epoch 1/20\n",
      "4500/4500 [==============================] - 0s - loss: 0.0656     \n",
      "Epoch 2/20\n",
      "4500/4500 [==============================] - 0s - loss: 0.0588     \n",
      "Epoch 3/20\n",
      "4500/4500 [==============================] - 0s - loss: 0.0556     \n",
      "Epoch 4/20\n",
      "4500/4500 [==============================] - 0s - loss: 0.0540     \n",
      "Epoch 5/20\n",
      "4500/4500 [==============================] - 0s - loss: 0.0532     \n",
      "Epoch 6/20\n",
      "4500/4500 [==============================] - 0s - loss: 0.0529     \n",
      "Epoch 7/20\n",
      "4500/4500 [==============================] - 0s - loss: 0.0527     \n",
      "Epoch 8/20\n",
      "4500/4500 [==============================] - 0s - loss: 0.0526     \n",
      "Epoch 9/20\n",
      "4500/4500 [==============================] - 0s - loss: 0.0525     \n",
      "Epoch 10/20\n",
      "4500/4500 [==============================] - 0s - loss: 0.0525     \n",
      "Epoch 11/20\n",
      "4480/4500 [============================>.] - ETA: 0s - loss: 0.0525"
     ]
    }
   ],
   "source": [
    "jae.pretrain(X_train, num_epoch = 20)"
   ]
  },
  {
   "cell_type": "code",
   "execution_count": null,
   "metadata": {
    "collapsed": false
   },
   "outputs": [],
   "source": [
    "jae.fine_train(X_train)"
   ]
  },
  {
   "cell_type": "code",
   "execution_count": 6,
   "metadata": {
    "collapsed": true
   },
   "outputs": [],
   "source": [
    "X_predict = jae.predict(X_test)"
   ]
  },
  {
   "cell_type": "code",
   "execution_count": 7,
   "metadata": {
    "collapsed": true
   },
   "outputs": [
    {
     "name": "stderr",
     "output_type": "stream",
     "text": [
      "/Users/eliasrubin/anaconda/lib/python2.7/site-packages/matplotlib/font_manager.py:273: UserWarning: Matplotlib is building the font cache using fc-list. This may take a moment.\n",
      "  warnings.warn('Matplotlib is building the font cache using fc-list. This may take a moment.')\n",
      "/Users/eliasrubin/anaconda/lib/python2.7/site-packages/matplotlib/__init__.py:872: UserWarning: axes.color_cycle is deprecated and replaced with axes.prop_cycle; please use the latter.\n",
      "  warnings.warn(self.msg_depr % (key, alt_key))\n"
     ]
    },
    {
     "data": {
      "image/png": "[encoded data removed]",
      "text/plain": [
       "<matplotlib.figure.Figure at 0x122505790>"
      ]
     },
     "metadata": {},
     "output_type": "display_data"
    }
   ],
   "source": [
    "import matplotlib.pyplot as plt\n",
    "import seaborn as sns\n",
    "%matplotlib inline\n",
    "\n",
    "plt.figure()\n",
    "x_range = np.linspace(-1,1,30)\n",
    "for i in range(len(X_test)):\n",
    "    test = plt.plot(x_range, X_test[i][0:30], color='b', alpha=0.1)\n",
    "    rep = plt.plot(x_range, X_predict[i][0:30], color='r', alpha=0.1)\n",
    "    \n",
    "plt.show()"
   ]
  }
 ],
 "metadata": {
  "kernelspec": {
   "display_name": "Python 2",
   "language": "python",
   "name": "python2"
  },
  "language_info": {
   "codemirror_mode": {
    "name": "ipython",
    "version": 2
   },
   "file_extension": ".py",
   "mimetype": "text/x-python",
   "name": "python",
   "nbconvert_exporter": "python",
   "pygments_lexer": "ipython2",
   "version": "2.7.11"
  }
 },
 "nbformat": 4,
 "nbformat_minor": 0
}
